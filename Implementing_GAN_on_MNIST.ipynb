{
 "cells": [
  {
   "cell_type": "code",
   "execution_count": 24,
   "id": "8d0a6256",
   "metadata": {},
   "outputs": [],
   "source": [
    "import tensorflow\n",
    "from tensorflow.keras.datasets import mnist\n",
    "import matplotlib.pyplot as plt"
   ]
  },
  {
   "cell_type": "code",
   "execution_count": 25,
   "id": "4eb91a54",
   "metadata": {},
   "outputs": [],
   "source": [
    "(X_train, y_train), (X_test, y_test) = mnist.load_data()"
   ]
  },
  {
   "cell_type": "code",
   "execution_count": 26,
   "id": "94419fa9",
   "metadata": {},
   "outputs": [
    {
     "data": {
      "text/plain": [
       "(60000, 28, 28)"
      ]
     },
     "execution_count": 26,
     "metadata": {},
     "output_type": "execute_result"
    }
   ],
   "source": [
    "# there are 60,000 samples in the training dataset\n",
    "\n",
    "X_train.shape"
   ]
  },
  {
   "cell_type": "code",
   "execution_count": 27,
   "id": "7ba5eb21",
   "metadata": {},
   "outputs": [
    {
     "data": {
      "text/plain": [
       "(10000, 28, 28)"
      ]
     },
     "execution_count": 27,
     "metadata": {},
     "output_type": "execute_result"
    }
   ],
   "source": [
    "# there are 10,000 samples in the testing dataset\n",
    "\n",
    "X_test.shape"
   ]
  },
  {
   "cell_type": "code",
   "execution_count": 28,
   "id": "a59ae53a",
   "metadata": {},
   "outputs": [
    {
     "data": {
      "text/plain": [
       "<matplotlib.image.AxesImage at 0x2060f958a30>"
      ]
     },
     "execution_count": 28,
     "metadata": {},
     "output_type": "execute_result"
    },
    {
     "data": {
      "image/png": "[encoded data removed]",
      "text/plain": [
       "<Figure size 640x480 with 1 Axes>"
      ]
     },
     "metadata": {},
     "output_type": "display_data"
    }
   ],
   "source": [
    "# To visualize a single image\n",
    "\n",
    "plt.imshow(X_train[0])"
   ]
  },
  {
   "cell_type": "code",
   "execution_count": 29,
   "id": "4aa6f4e1",
   "metadata": {},
   "outputs": [
    {
     "data": {
      "text/plain": [
       "5"
      ]
     },
     "execution_count": 29,
     "metadata": {},
     "output_type": "execute_result"
    }
   ],
   "source": [
    "# We can verify the correcting labels is 5 or not?\n",
    "\n",
    "y_train[0]"
   ]
  },
  {
   "cell_type": "code",
   "execution_count": 30,
   "id": "7acffc6d",
   "metadata": {},
   "outputs": [
    {
     "data": {
      "text/plain": [
       "<matplotlib.image.AxesImage at 0x20613b82b50>"
      ]
     },
     "execution_count": 30,
     "metadata": {},
     "output_type": "execute_result"
    },
    {
     "data": {
      "image/png": "[encoded data removed]",
      "text/plain": [
       "<Figure size 640x480 with 1 Axes>"
      ]
     },
     "metadata": {},
     "output_type": "display_data"
    }
   ],
   "source": [
    "# We will consider a particular digit's images only for training to be faster\n",
    "# We can also see Generator peformance on one set of images quickly.\n",
    "\n",
    "X_train_zeros = X_train[y_train==0]\n",
    "plt.imshow(X_train_zeros[0])"
   ]
  },
  {
   "cell_type": "code",
   "execution_count": 38,
   "id": "226bd9d8",
   "metadata": {},
   "outputs": [
    {
     "data": {
      "text/plain": [
       "(5923, 28, 28)"
      ]
     },
     "execution_count": 38,
     "metadata": {},
     "output_type": "execute_result"
    }
   ],
   "source": [
    "X_train_zeros.shape"
   ]
  },
  {
   "cell_type": "code",
   "execution_count": 31,
   "id": "6f000947",
   "metadata": {},
   "outputs": [
    {
     "data": {
      "text/plain": [
       "array([0, 0, 0, ..., 0, 0, 0], dtype=uint8)"
      ]
     },
     "execution_count": 31,
     "metadata": {},
     "output_type": "execute_result"
    }
   ],
   "source": [
    "# Similary we will do the same for y_train (Zeros only)\n",
    "\n",
    "y_train_zeros = y_train[y_train==0]\n",
    "y_train_zeros"
   ]
  },
  {
   "cell_type": "markdown",
   "id": "6e0ecfd7",
   "metadata": {},
   "source": [
    "## Building a Discriminator layer"
   ]
  },
  {
   "cell_type": "code",
   "execution_count": 32,
   "id": "256a1b75",
   "metadata": {},
   "outputs": [],
   "source": [
    "import tensorflow\n",
    "from tensorflow.keras.models import Sequential\n",
    "from tensorflow.keras.layers import Dense, Flatten, Reshape"
   ]
  },
  {
   "cell_type": "code",
   "execution_count": 33,
   "id": "c3460891",
   "metadata": {},
   "outputs": [],
   "source": [
    "dicriminator = Sequential()\n",
    "dicriminator.add(Flatten(input_shape=[28,28]))\n",
    "dicriminator.add(Dense(150, activation='relu'))\n",
    "dicriminator.add(Dense(100, activation='relu'))\n",
    "dicriminator.add(Dense(1, activation='sigmoid'))\n",
    "\n",
    "dicriminator.compile(loss='binary_crossentropy', optimizer='adam')"
   ]
  },
  {
   "cell_type": "markdown",
   "id": "68778490",
   "metadata": {},
   "source": [
    "## Building a Generator layer"
   ]
  },
  {
   "cell_type": "code",
   "execution_count": 34,
   "id": "63bc1a06",
   "metadata": {},
   "outputs": [],
   "source": [
    "generator = Sequential()\n",
    "generator.add(Dense(100, activation='relu', input_shape=[100]))\n",
    "generator.add(Dense(150, activation='relu'))\n",
    "generator.add(Dense(784, activation='relu'))\n",
    "generator.add(Dense(784, activation='relu'))\n",
    "\n",
    "generator.add(Reshape([28,28]))"
   ]
  },
  {
   "cell_type": "markdown",
   "id": "179ebb10",
   "metadata": {},
   "source": [
    "## Combining both models to form GAN"
   ]
  },
  {
   "cell_type": "code",
   "execution_count": 35,
   "id": "57c64793",
   "metadata": {},
   "outputs": [],
   "source": [
    "GAN = Sequential([generator, dicriminator])"
   ]
  },
  {
   "cell_type": "code",
   "execution_count": 36,
   "id": "3a7487bc",
   "metadata": {},
   "outputs": [],
   "source": [
    "dicriminator.trainable = False # dicriminator will not train in 2nd phase"
   ]
  },
  {
   "cell_type": "code",
   "execution_count": 37,
   "id": "f4a28532",
   "metadata": {},
   "outputs": [],
   "source": [
    "GAN.compile(loss='binary_crossentropy', optimizer='adam')"
   ]
  },
  {
   "cell_type": "markdown",
   "id": "fa245c75",
   "metadata": {},
   "source": [
    "## Training GAN on Training Batch"
   ]
  },
  {
   "cell_type": "code",
   "execution_count": 39,
   "id": "f7176057",
   "metadata": {},
   "outputs": [],
   "source": [
    "batch_size = 32"
   ]
  },
  {
   "cell_type": "code",
   "execution_count": 40,
   "id": "50fbae9a",
   "metadata": {},
   "outputs": [],
   "source": [
    "my_train_data = X_train_zeros"
   ]
  },
  {
   "cell_type": "code",
   "execution_count": 52,
   "id": "0980158f",
   "metadata": {},
   "outputs": [
    {
     "data": {
      "text/plain": [
       "(5923, 28, 28)"
      ]
     },
     "execution_count": 52,
     "metadata": {},
     "output_type": "execute_result"
    }
   ],
   "source": [
    "my_train_data.shape"
   ]
  },
  {
   "cell_type": "code",
   "execution_count": 53,
   "id": "0bad52d6",
   "metadata": {},
   "outputs": [
    {
     "data": {
      "text/plain": [
       "185.09375"
      ]
     },
     "execution_count": 53,
     "metadata": {},
     "output_type": "execute_result"
    }
   ],
   "source": [
    "5923/32"
   ]
  },
  {
   "cell_type": "code",
   "execution_count": null,
   "id": "e1972436",
   "metadata": {},
   "outputs": [],
   "source": [
    "# Creating the dataset using tensorflow ==> data ==> Dataset module\n",
    "\n",
    "dataset =  tensorflow.data.Dataset.from_tensor_slices(my_train_data).shuffle(buffer_size=1000)"
   ]
  },
  {
   "cell_type": "code",
   "execution_count": 55,
   "id": "8f8a540f",
   "metadata": {},
   "outputs": [
    {
     "data": {
      "text/plain": [
       "tensorflow.python.data.ops.dataset_ops.ShuffleDataset"
      ]
     },
     "execution_count": 55,
     "metadata": {},
     "output_type": "execute_result"
    }
   ],
   "source": [
    "# type of the dataset generated\n",
    "\n",
    "type(dataset)"
   ]
  },
  {
   "cell_type": "code",
   "execution_count": 56,
   "id": "4481dc2e",
   "metadata": {},
   "outputs": [],
   "source": [
    "# Setting up batches for generated dataset\n",
    "# It will create 185 batches and drop the remainder\n",
    "\n",
    "dataset = dataset.batch(batch_size=batch_size, drop_remainder=True).prefetch(1)"
   ]
  },
  {
   "cell_type": "code",
   "execution_count": 58,
   "id": "b97d0061",
   "metadata": {},
   "outputs": [
    {
     "data": {
      "text/plain": [
       "<PrefetchDataset element_spec=TensorSpec(shape=(32, 28, 28), dtype=tf.uint8, name=None)>"
      ]
     },
     "execution_count": 58,
     "metadata": {},
     "output_type": "execute_result"
    }
   ],
   "source": [
    "dataset\n",
    "\n",
    "# We can see that every elements/ batches is of size (32, 28, 28)"
   ]
  },
  {
   "cell_type": "markdown",
   "id": "12e5ed04",
   "metadata": {},
   "source": [
    "#### Training the Generator and Discriminator"
   ]
  },
  {
   "cell_type": "code",
   "execution_count": 59,
   "id": "5c5f178f",
   "metadata": {},
   "outputs": [
    {
     "name": "stdout",
     "output_type": "stream",
     "text": [
      "Model: \"sequential_5\"\n",
      "_________________________________________________________________\n",
      " Layer (type)                Output Shape              Param #   \n",
      "=================================================================\n",
      " dense_10 (Dense)            (None, 100)               10100     \n",
      "                                                                 \n",
      " dense_11 (Dense)            (None, 150)               15150     \n",
      "                                                                 \n",
      " dense_12 (Dense)            (None, 784)               118384    \n",
      "                                                                 \n",
      " dense_13 (Dense)            (None, 784)               615440    \n",
      "                                                                 \n",
      " reshape_1 (Reshape)         (None, 28, 28)            0         \n",
      "                                                                 \n",
      "=================================================================\n",
      "Total params: 759,074\n",
      "Trainable params: 759,074\n",
      "Non-trainable params: 0\n",
      "_________________________________________________________________\n"
     ]
    }
   ],
   "source": [
    "generator, discrimintor = GAN.layers\n",
    "\n",
    "generator.summary()"
   ]
  },
  {
   "cell_type": "code",
   "execution_count": 60,
   "id": "41acb41d",
   "metadata": {},
   "outputs": [
    {
     "name": "stdout",
     "output_type": "stream",
     "text": [
      "Model: \"sequential_4\"\n",
      "_________________________________________________________________\n",
      " Layer (type)                Output Shape              Param #   \n",
      "=================================================================\n",
      " flatten_1 (Flatten)         (None, 784)               0         \n",
      "                                                                 \n",
      " dense_7 (Dense)             (None, 150)               117750    \n",
      "                                                                 \n",
      " dense_8 (Dense)             (None, 100)               15100     \n",
      "                                                                 \n",
      " dense_9 (Dense)             (None, 1)                 101       \n",
      "                                                                 \n",
      "=================================================================\n",
      "Total params: 132,951\n",
      "Trainable params: 0\n",
      "Non-trainable params: 132,951\n",
      "_________________________________________________________________\n"
     ]
    }
   ],
   "source": [
    "discrimintor.summary()"
   ]
  },
  {
   "cell_type": "code",
   "execution_count": 66,
   "id": "ef1cb74c",
   "metadata": {},
   "outputs": [
    {
     "name": "stdout",
     "output_type": "stream",
     "text": [
      "Currently on epoch 0\n"
     ]
    }
   ],
   "source": [
    "epochs = 1\n",
    "tensorflow.random.set_seed(42)\n",
    "\n",
    "codings_size = 100\n",
    "\n",
    "for epoch in range(epochs):\n",
    "    print(f\"Currently on epoch {epoch}\")\n",
    "    \n",
    "    for X_batch in dataset:\n",
    "        # We have to create some noise and then concatenate with real image dataset before feeding to discriminator\n",
    "        # Training of Discriminator will be phase 1 of GAN\n",
    "        \n",
    "        noise = tensorflow.random.normal(shape=[batch_size, codings_size])\n",
    "        \n",
    "        # passing the noise through generator to generate False/Fake image \n",
    "        gen_image = generator(noise)\n",
    "        \n",
    "        #Concatenate the Fake and real images\n",
    "        X_real_fake_images = tensorflow.concat([gen_image, \n",
    "                                                tensorflow.dtypes.cast(X_batch, tensorflow.float32)], axis=0)\n",
    "        \n",
    "        # We need to generate the traget labels to the X_real_fake_images\n",
    "        # First 32 images will fake and last 32 will be real.\n",
    "        # we map real to 1's and fake to 0's\n",
    "        \n",
    "        y1 = tensorflow.constant([[0.]]*batch_size + [[1.]]*batch_size)\n",
    "        \n",
    "        # Now feed this Combination of real and Fake Images to Discriminator\n",
    "        # We need to set the discriminator trainable to True in phase 1 and False during pahse 2\n",
    "        discrimintor.trainable = True\n",
    "        discrimintor.train_on_batch(X_real_fake_images, y1)\n",
    "        \n",
    "        # Now we have to train the generator\n",
    "        # We need to create noise for generator\n",
    "        # we need to also set the trainable of discriminator to False\n",
    "        noise =  tensorflow.random.normal(shape=[batch_size, codings_size])\n",
    "        y2 = tensorflow.constant([[1.0]]*batch_size)\n",
    "        discrimintor.trainable = False\n",
    "        \n",
    "        # We will be training the GAN model instead of Generator layer\n",
    "        GAN.train_on_batch(noise, y2)"
   ]
  },
  {
   "cell_type": "code",
   "execution_count": 70,
   "id": "38248cbf",
   "metadata": {},
   "outputs": [],
   "source": [
    "#generating a random noise\n",
    "\n",
    "noise = tensorflow.random.normal(shape=[10, codings_size])"
   ]
  },
  {
   "cell_type": "code",
   "execution_count": 71,
   "id": "8518deb1",
   "metadata": {},
   "outputs": [
    {
     "data": {
      "text/plain": [
       "TensorShape([10, 100])"
      ]
     },
     "execution_count": 71,
     "metadata": {},
     "output_type": "execute_result"
    }
   ],
   "source": [
    "#shape of generated noise\n",
    "\n",
    "noise.shape"
   ]
  },
  {
   "cell_type": "code",
   "execution_count": 72,
   "id": "4ed27cad",
   "metadata": {},
   "outputs": [
    {
     "data": {
      "text/plain": [
       "<matplotlib.image.AxesImage at 0x2060e30f7f0>"
      ]
     },
     "execution_count": 72,
     "metadata": {},
     "output_type": "execute_result"
    },
    {
     "data": {
      "image/png": "[encoded data removed]",
      "text/plain": [
       "<Figure size 640x480 with 1 Axes>"
      ]
     },
     "metadata": {},
     "output_type": "display_data"
    }
   ],
   "source": [
    "# Visualising the noise\n",
    "\n",
    "plt.imshow(noise)"
   ]
  },
  {
   "cell_type": "code",
   "execution_count": 74,
   "id": "d2aceb6c",
   "metadata": {},
   "outputs": [
    {
     "data": {
      "text/plain": [
       "<matplotlib.image.AxesImage at 0x2061d1ae9d0>"
      ]
     },
     "execution_count": 74,
     "metadata": {},
     "output_type": "execute_result"
    },
    {
     "data": {
      "image/png": "[encoded data removed]",
      "text/plain": [
       "<Figure size 640x480 with 1 Axes>"
      ]
     },
     "metadata": {},
     "output_type": "display_data"
    }
   ],
   "source": [
    "# Feeding noise to the generator and then visualising it\n",
    "\n",
    "image = generator(noise)\n",
    "plt.imshow(image[0])"
   ]
  },
  {
   "cell_type": "code",
   "execution_count": 75,
   "id": "1e104d9d",
   "metadata": {},
   "outputs": [
    {
     "data": {
      "text/plain": [
       "<matplotlib.image.AxesImage at 0x2061d33df10>"
      ]
     },
     "execution_count": 75,
     "metadata": {},
     "output_type": "execute_result"
    },
    {
     "data": {
      "image/png": "[encoded data removed]",
      "text/plain": [
       "<Figure size 640x480 with 1 Axes>"
      ]
     },
     "metadata": {},
     "output_type": "display_data"
    }
   ],
   "source": [
    "plt.imshow(image[3])"
   ]
  },
  {
   "cell_type": "code",
   "execution_count": null,
   "id": "fb445c67",
   "metadata": {},
   "outputs": [],
   "source": []
  }
 ],
 "metadata": {
  "kernelspec": {
   "display_name": "Python 3 (ipykernel)",
   "language": "python",
   "name": "python3"
  },
  "language_info": {
   "codemirror_mode": {
    "name": "ipython",
    "version": 3
   },
   "file_extension": ".py",
   "mimetype": "text/x-python",
   "name": "python",
   "nbconvert_exporter": "python",
   "pygments_lexer": "ipython3",
   "version": "3.9.7"
  }
 },
 "nbformat": 4,
 "nbformat_minor": 5
}
